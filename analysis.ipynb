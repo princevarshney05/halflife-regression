{
 "cells": [
  {
   "cell_type": "code",
   "execution_count": 1,
   "metadata": {},
   "outputs": [],
   "source": [
    "import pandas as pd "
   ]
  },
  {
   "cell_type": "code",
   "execution_count": 2,
   "metadata": {},
   "outputs": [],
   "source": [
    "import nltk\n",
    "from nltk.corpus import wordnet as wn"
   ]
  },
  {
   "cell_type": "code",
   "execution_count": 17,
   "metadata": {},
   "outputs": [
    {
     "name": "stderr",
     "output_type": "stream",
     "text": [
      "[nltk_data] Downloading package wordnet to /home/prince/nltk_data...\n",
      "[nltk_data]   Package wordnet is already up-to-date!\n",
      "[nltk_data] Downloading package omw-1.4 to /home/prince/nltk_data...\n"
     ]
    },
    {
     "data": {
      "text/plain": [
       "True"
      ]
     },
     "execution_count": 17,
     "metadata": {},
     "output_type": "execute_result"
    }
   ],
   "source": [
    "nltk.download('wordnet')\n",
    "nltk.download('omw-1.4')"
   ]
  },
  {
   "cell_type": "code",
   "execution_count": 36,
   "metadata": {},
   "outputs": [],
   "source": [
    "import requests\n",
    "from bs4 import BeautifulSoup\n",
    "\n",
    "url = \"https://www.fluentin3months.com/french-cognates/\"\n",
    "response = requests.get(url)\n",
    "soup = BeautifulSoup(response.content, 'html.parser')\n"
   ]
  },
  {
   "cell_type": "code",
   "execution_count": 37,
   "metadata": {},
   "outputs": [],
   "source": [
    "list_div = soup.find('div', {'class': 'entry-content'})\n",
    "list_items = list_div.find_all('li')\n"
   ]
  },
  {
   "cell_type": "code",
   "execution_count": 41,
   "metadata": {},
   "outputs": [],
   "source": [
    "french_cognates = []\n",
    "for item in list_items:\n",
    "    strong_tag = item.find('strong')\n",
    "    if strong_tag:\n",
    "        french_cognates.append(strong_tag.text)\n"
   ]
  },
  {
   "cell_type": "code",
   "execution_count": 44,
   "metadata": {},
   "outputs": [
    {
     "data": {
      "text/plain": [
       "['l’accélération',\n",
       " 'action',\n",
       " 'addiction',\n",
       " 'ambition',\n",
       " 'attention',\n",
       " 'celebration',\n",
       " 'champion',\n",
       " 'communication',\n",
       " 'condition',\n",
       " 'conversation',\n",
       " 'donation',\n",
       " 'diction',\n",
       " 'édition',\n",
       " 'election',\n",
       " 'equation',\n",
       " 'emotion',\n",
       " 'érosion',\n",
       " 'fiction',\n",
       " 'function',\n",
       " 'génération',\n",
       " 'infection',\n",
       " 'l’information',\n",
       " 'injection',\n",
       " 'invasion',\n",
       " 'legion',\n",
       " 'motion',\n",
       " 'notion',\n",
       " 'nation',\n",
       " 'omission',\n",
       " 'option',\n",
       " 'passion',\n",
       " 'population',\n",
       " 'présentation',\n",
       " 'prononciation',\n",
       " 'question',\n",
       " 'ration',\n",
       " 'reflection',\n",
       " 'religion',\n",
       " 'réservation',\n",
       " 'région',\n",
       " 'rotation',\n",
       " 'session',\n",
       " 'station',\n",
       " 'solution',\n",
       " 'transaction',\n",
       " 'animal',\n",
       " 'central',\n",
       " 'national',\n",
       " 'final',\n",
       " 'international',\n",
       " 'mental',\n",
       " 'vertical',\n",
       " 'adorable',\n",
       " 'admirable',\n",
       " 'applicable',\n",
       " 'cable',\n",
       " 'capable',\n",
       " 'double',\n",
       " 'durable',\n",
       " 'favorable',\n",
       " 'habitable',\n",
       " 'incurable',\n",
       " 'identifiable',\n",
       " 'improbable',\n",
       " 'inséparable',\n",
       " 'justifiable',\n",
       " 'notable',\n",
       " 'recyclable',\n",
       " 'respectable',\n",
       " 'sociable',\n",
       " 'table',\n",
       " 'vulnérable',\n",
       " 'horrible',\n",
       " 'flexible',\n",
       " 'impossible',\n",
       " 'inaccessible',\n",
       " 'incrédible',\n",
       " 'perceptible',\n",
       " 'visible',\n",
       " 'ambiance',\n",
       " 'ambulance',\n",
       " 'appearance',\n",
       " 'alliance',\n",
       " 'arrogance',\n",
       " 'assistance',\n",
       " 'assurance',\n",
       " 'brilliance',\n",
       " 'circumstance',\n",
       " 'deliverance',\n",
       " 'distance',\n",
       " 'dominance',\n",
       " 'endurance',\n",
       " 'elegance',\n",
       " 'fiancé',\n",
       " 'finance',\n",
       " 'fragrance',\n",
       " 'intolerance',\n",
       " 'importance',\n",
       " 'nuance',\n",
       " 'nuisance',\n",
       " 'perseverance',\n",
       " 'renaissance',\n",
       " 'resemblance',\n",
       " 'resonance',\n",
       " 'substance',\n",
       " 'tolerance',\n",
       " 'vibrance',\n",
       " 'brilliant(e)',\n",
       " 'éléphant',\n",
       " 'extravagant',\n",
       " 'ignorant(e)',\n",
       " 'immigrant',\n",
       " 'important(e',\n",
       " 'nonchalant',\n",
       " 'restaurant',\n",
       " 'triumphant(e)',\n",
       " 'vacant',\n",
       " 'vibrant',\n",
       " 'contracter',\n",
       " 'correct',\n",
       " 'direct',\n",
       " 'distinct',\n",
       " 'exact',\n",
       " 'impact',\n",
       " 'insecte',\n",
       " 'instinct',\n",
       " 'objet',\n",
       " 'parfait',\n",
       " 'respect',\n",
       " 'suspect',\n",
       " 'absence',\n",
       " 'conscience',\n",
       " 'convergence',\n",
       " 'indulgence',\n",
       " 'impatience',\n",
       " 'indépendance',\n",
       " 'innocence',\n",
       " 'intelligence',\n",
       " 'obédience',\n",
       " 'patience',\n",
       " 'science',\n",
       " 'silence',\n",
       " 'violence',\n",
       " 'absent',\n",
       " 'accent',\n",
       " 'accident',\n",
       " 'adjacent',\n",
       " 'adolescent',\n",
       " 'affluent',\n",
       " 'amendement',\n",
       " 'appartement',\n",
       " 'agent',\n",
       " 'ardent',\n",
       " 'client',\n",
       " 'compliment',\n",
       " 'continent',\n",
       " 'décent',\n",
       " 'déficient',\n",
       " 'différent(e)',\n",
       " 'diligent',\n",
       " 'document',\n",
       " 'encouragement',\n",
       " 'élément',\n",
       " 'évident',\n",
       " 'excellent',\n",
       " 'incrément',\n",
       " 'incident',\n",
       " 'innocent',\n",
       " 'intelligent',\n",
       " 'latent',\n",
       " 'monument',\n",
       " 'négligent',\n",
       " 'paiement',\n",
       " 'parent',\n",
       " 'permanent(e)',\n",
       " 'pertinent',\n",
       " 'président',\n",
       " 'prudent(e)',\n",
       " 'récent',\n",
       " 'segment',\n",
       " 'talent',\n",
       " 'transparent',\n",
       " 'urgent',\n",
       " 'actuaire',\n",
       " 'arbitraire',\n",
       " 'dictionnaire',\n",
       " 'extraordinaire',\n",
       " 'imaginaire',\n",
       " 'ordinaire',\n",
       " 'anniversaire',\n",
       " 'dictionnaire',\n",
       " 'salaire',\n",
       " 'vocabulaire',\n",
       " 'militaire',\n",
       " 'néccessaire',\n",
       " 'contraire',\n",
       " 'alphabetique',\n",
       " 'analytique',\n",
       " 'Catholique',\n",
       " 'chemique',\n",
       " 'critique',\n",
       " 'cubique',\n",
       " 'dramatique',\n",
       " 'electrique',\n",
       " 'èthique',\n",
       " 'historique',\n",
       " 'identique',\n",
       " 'logique',\n",
       " 'lyrique',\n",
       " 'musique',\n",
       " 'pratique',\n",
       " 'romantique',\n",
       " 'statistique',\n",
       " 'symetrique',\n",
       " 'typique',\n",
       " 'cycliste',\n",
       " 'artiste',\n",
       " 'dentiste',\n",
       " 'absolument',\n",
       " '\\xa0correctement',\n",
       " 'directement',\n",
       " 'spécialement',\n",
       " 'évidemment',\n",
       " 'exactement',\n",
       " 'finalement',\n",
       " 'immédiatement',\n",
       " 'naturellement',\n",
       " 'normalement',\n",
       " 'totalement',\n",
       " 'côte',\n",
       " 'forêt',\n",
       " 'hôtel',\n",
       " 'hôpital',\n",
       " 'théâtre']"
      ]
     },
     "execution_count": 44,
     "metadata": {},
     "output_type": "execute_result"
    }
   ],
   "source": [
    "french_cognates"
   ]
  },
  {
   "cell_type": "code",
   "execution_count": 50,
   "metadata": {},
   "outputs": [],
   "source": [
    "weights = pd.read_csv(\"./results/hlr.settles.acl16.learning_traces.13m.weights\",delimiter='\\t',skiprows=3,header=None)"
   ]
  },
  {
   "cell_type": "code",
   "execution_count": 60,
   "metadata": {},
   "outputs": [],
   "source": [
    "weights.columns = ['lexemes','weights']"
   ]
  },
  {
   "cell_type": "code",
   "execution_count": 62,
   "metadata": {},
   "outputs": [
    {
     "data": {
      "text/html": [
       "<div>\n",
       "<style scoped>\n",
       "    .dataframe tbody tr th:only-of-type {\n",
       "        vertical-align: middle;\n",
       "    }\n",
       "\n",
       "    .dataframe tbody tr th {\n",
       "        vertical-align: top;\n",
       "    }\n",
       "\n",
       "    .dataframe thead th {\n",
       "        text-align: right;\n",
       "    }\n",
       "</style>\n",
       "<table border=\"1\" class=\"dataframe\">\n",
       "  <thead>\n",
       "    <tr style=\"text-align: right;\">\n",
       "      <th></th>\n",
       "      <th>lexemes</th>\n",
       "      <th>weights</th>\n",
       "    </tr>\n",
       "  </thead>\n",
       "  <tbody>\n",
       "    <tr>\n",
       "      <th>0</th>\n",
       "      <td>es:desde/desde&lt;pr&gt;</td>\n",
       "      <td>0.1707</td>\n",
       "    </tr>\n",
       "    <tr>\n",
       "      <th>1</th>\n",
       "      <td>es:como/comer&lt;vblex&gt;&lt;pri&gt;&lt;p1&gt;&lt;sg&gt;</td>\n",
       "      <td>0.1708</td>\n",
       "    </tr>\n",
       "    <tr>\n",
       "      <th>2</th>\n",
       "      <td>de:kinder/kind&lt;n&gt;&lt;nt&gt;&lt;pl&gt;&lt;nom&gt;</td>\n",
       "      <td>0.1297</td>\n",
       "    </tr>\n",
       "    <tr>\n",
       "      <th>3</th>\n",
       "      <td>en:strawberry/strawberry&lt;n&gt;&lt;sg&gt;</td>\n",
       "      <td>-0.0585</td>\n",
       "    </tr>\n",
       "    <tr>\n",
       "      <th>4</th>\n",
       "      <td>en:to/to&lt;pr&gt;</td>\n",
       "      <td>0.0324</td>\n",
       "    </tr>\n",
       "  </tbody>\n",
       "</table>\n",
       "</div>"
      ],
      "text/plain": [
       "                             lexemes  weights\n",
       "0                 es:desde/desde<pr>   0.1707\n",
       "1  es:como/comer<vblex><pri><p1><sg>   0.1708\n",
       "2     de:kinder/kind<n><nt><pl><nom>   0.1297\n",
       "3    en:strawberry/strawberry<n><sg>  -0.0585\n",
       "4                       en:to/to<pr>   0.0324"
      ]
     },
     "execution_count": 62,
     "metadata": {},
     "output_type": "execute_result"
    }
   ],
   "source": [
    "weights.head()"
   ]
  },
  {
   "cell_type": "code",
   "execution_count": 64,
   "metadata": {},
   "outputs": [
    {
     "name": "stdout",
     "output_type": "stream",
     "text": [
      "       weights lang surface_form        root                            tags\n",
      "0       0.1707   es        desde       desde                           [pr>]\n",
      "1       0.1708   es         como       comer        [vblex>, pri>, p1>, sg>]\n",
      "2       0.1297   de       kinder        kind            [n>, nt>, pl>, nom>]\n",
      "3      -0.0585   en   strawberry  strawberry                       [n>, sg>]\n",
      "4       0.0324   en           to          to                           [pr>]\n",
      "...        ...  ...          ...         ...                             ...\n",
      "19274   0.0000   fr   conférence  conférence                   [n>, f>, sg>]\n",
      "19275   0.0000   fr        liens        lien                   [n>, m>, pl>]\n",
      "19276   0.0000   pt          foi          ir        [vblex>, ifi>, p3>, sg>]\n",
      "19277   0.0000   de        <*sf>      heißen  [vblex>, pri>, *pers>, *numb>]\n",
      "19278   0.0000   fr    compagnie   compagnie                   [n>, f>, sg>]\n",
      "\n",
      "[19279 rows x 5 columns]\n"
     ]
    }
   ],
   "source": [
    "\n",
    "\n",
    "# Function to split the column into four parts\n",
    "def split_column(row):\n",
    "    parts = row['lexemes'].split(':')\n",
    "    row['lang'] = parts[0] \n",
    "    parts = parts[1].split('/')\n",
    "    row['surface_form'] = parts[0]\n",
    "    parts = parts[1].split('<')\n",
    "    row['root'] = parts[0]\n",
    "    row['tags'] = parts[1:]\n",
    "    return row   \n",
    "\n",
    "# Apply the function to the dataframe and drop the original column\n",
    "df = weights.apply(split_column, axis=1).drop('lexemes', axis=1)\n",
    "\n",
    "\n"
   ]
  },
  {
   "cell_type": "code",
   "execution_count": 65,
   "metadata": {},
   "outputs": [
    {
     "data": {
      "text/html": [
       "<div>\n",
       "<style scoped>\n",
       "    .dataframe tbody tr th:only-of-type {\n",
       "        vertical-align: middle;\n",
       "    }\n",
       "\n",
       "    .dataframe tbody tr th {\n",
       "        vertical-align: top;\n",
       "    }\n",
       "\n",
       "    .dataframe thead th {\n",
       "        text-align: right;\n",
       "    }\n",
       "</style>\n",
       "<table border=\"1\" class=\"dataframe\">\n",
       "  <thead>\n",
       "    <tr style=\"text-align: right;\">\n",
       "      <th></th>\n",
       "      <th>weights</th>\n",
       "      <th>lang</th>\n",
       "      <th>surface_form</th>\n",
       "      <th>root</th>\n",
       "      <th>tags</th>\n",
       "    </tr>\n",
       "  </thead>\n",
       "  <tbody>\n",
       "    <tr>\n",
       "      <th>0</th>\n",
       "      <td>0.1707</td>\n",
       "      <td>es</td>\n",
       "      <td>desde</td>\n",
       "      <td>desde</td>\n",
       "      <td>[pr&gt;]</td>\n",
       "    </tr>\n",
       "    <tr>\n",
       "      <th>1</th>\n",
       "      <td>0.1708</td>\n",
       "      <td>es</td>\n",
       "      <td>como</td>\n",
       "      <td>comer</td>\n",
       "      <td>[vblex&gt;, pri&gt;, p1&gt;, sg&gt;]</td>\n",
       "    </tr>\n",
       "    <tr>\n",
       "      <th>2</th>\n",
       "      <td>0.1297</td>\n",
       "      <td>de</td>\n",
       "      <td>kinder</td>\n",
       "      <td>kind</td>\n",
       "      <td>[n&gt;, nt&gt;, pl&gt;, nom&gt;]</td>\n",
       "    </tr>\n",
       "    <tr>\n",
       "      <th>3</th>\n",
       "      <td>-0.0585</td>\n",
       "      <td>en</td>\n",
       "      <td>strawberry</td>\n",
       "      <td>strawberry</td>\n",
       "      <td>[n&gt;, sg&gt;]</td>\n",
       "    </tr>\n",
       "    <tr>\n",
       "      <th>4</th>\n",
       "      <td>0.0324</td>\n",
       "      <td>en</td>\n",
       "      <td>to</td>\n",
       "      <td>to</td>\n",
       "      <td>[pr&gt;]</td>\n",
       "    </tr>\n",
       "  </tbody>\n",
       "</table>\n",
       "</div>"
      ],
      "text/plain": [
       "   weights lang surface_form        root                      tags\n",
       "0   0.1707   es        desde       desde                     [pr>]\n",
       "1   0.1708   es         como       comer  [vblex>, pri>, p1>, sg>]\n",
       "2   0.1297   de       kinder        kind      [n>, nt>, pl>, nom>]\n",
       "3  -0.0585   en   strawberry  strawberry                 [n>, sg>]\n",
       "4   0.0324   en           to          to                     [pr>]"
      ]
     },
     "execution_count": 65,
     "metadata": {},
     "output_type": "execute_result"
    }
   ],
   "source": [
    "df.head()"
   ]
  },
  {
   "cell_type": "code",
   "execution_count": 70,
   "metadata": {},
   "outputs": [],
   "source": [
    "french_weights = df[df.lang == 'fr']"
   ]
  },
  {
   "cell_type": "code",
   "execution_count": 73,
   "metadata": {},
   "outputs": [],
   "source": [
    "french_lexemes = set(french_weights.surface_form) | set(french_weights.root)"
   ]
  },
  {
   "cell_type": "code",
   "execution_count": 82,
   "metadata": {},
   "outputs": [],
   "source": [
    "french_cognates = french_lexemes & set(french_cognates)"
   ]
  },
  {
   "cell_type": "code",
   "execution_count": 84,
   "metadata": {},
   "outputs": [
    {
     "data": {
      "text/plain": [
       "82"
      ]
     },
     "execution_count": 84,
     "metadata": {},
     "output_type": "execute_result"
    }
   ],
   "source": [
    "len(french_cognates)"
   ]
  },
  {
   "cell_type": "code",
   "execution_count": 85,
   "metadata": {},
   "outputs": [],
   "source": [
    "french_non_cognates = french_lexemes - set(french_cognates)"
   ]
  },
  {
   "cell_type": "code",
   "execution_count": 87,
   "metadata": {},
   "outputs": [
    {
     "data": {
      "text/plain": [
       "2719"
      ]
     },
     "execution_count": 87,
     "metadata": {},
     "output_type": "execute_result"
    }
   ],
   "source": [
    "len(french_non_cognates)"
   ]
  },
  {
   "cell_type": "code",
   "execution_count": null,
   "metadata": {},
   "outputs": [],
   "source": []
  }
 ],
 "metadata": {
  "interpreter": {
   "hash": "916dbcbb3f70747c44a77c7bcd40155683ae19c65e1c03b4aa3499c5328201f1"
  },
  "kernelspec": {
   "display_name": "Python 3.8.10 64-bit",
   "language": "python",
   "name": "python3"
  },
  "language_info": {
   "codemirror_mode": {
    "name": "ipython",
    "version": 3
   },
   "file_extension": ".py",
   "mimetype": "text/x-python",
   "name": "python",
   "nbconvert_exporter": "python",
   "pygments_lexer": "ipython3",
   "version": "3.8.10"
  },
  "orig_nbformat": 4
 },
 "nbformat": 4,
 "nbformat_minor": 2
}
