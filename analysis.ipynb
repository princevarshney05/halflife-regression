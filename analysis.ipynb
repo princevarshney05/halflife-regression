{
 "cells": [
  {
   "cell_type": "code",
   "execution_count": 133,
   "metadata": {},
   "outputs": [],
   "source": [
    "import pandas as pd \n",
    "import matplotlib.pyplot as plt \n",
    "from scipy.stats import ttest_ind\n"
   ]
  },
  {
   "cell_type": "code",
   "execution_count": 2,
   "metadata": {},
   "outputs": [],
   "source": [
    "import nltk\n",
    "from nltk.corpus import wordnet as wn"
   ]
  },
  {
   "cell_type": "code",
   "execution_count": 17,
   "metadata": {},
   "outputs": [
    {
     "name": "stderr",
     "output_type": "stream",
     "text": [
      "[nltk_data] Downloading package wordnet to /home/prince/nltk_data...\n",
      "[nltk_data]   Package wordnet is already up-to-date!\n",
      "[nltk_data] Downloading package omw-1.4 to /home/prince/nltk_data...\n"
     ]
    },
    {
     "data": {
      "text/plain": [
       "True"
      ]
     },
     "execution_count": 17,
     "metadata": {},
     "output_type": "execute_result"
    }
   ],
   "source": [
    "nltk.download('wordnet')\n",
    "nltk.download('omw-1.4')"
   ]
  },
  {
   "cell_type": "code",
   "execution_count": 36,
   "metadata": {},
   "outputs": [],
   "source": [
    "import requests\n",
    "from bs4 import BeautifulSoup\n",
    "\n",
    "url = \"https://www.fluentin3months.com/french-cognates/\"\n",
    "response = requests.get(url)\n",
    "soup = BeautifulSoup(response.content, 'html.parser')\n"
   ]
  },
  {
   "cell_type": "code",
   "execution_count": 37,
   "metadata": {},
   "outputs": [],
   "source": [
    "list_div = soup.find('div', {'class': 'entry-content'})\n",
    "list_items = list_div.find_all('li')\n"
   ]
  },
  {
   "cell_type": "code",
   "execution_count": 41,
   "metadata": {},
   "outputs": [],
   "source": [
    "french_cognates = []\n",
    "for item in list_items:\n",
    "    strong_tag = item.find('strong')\n",
    "    if strong_tag:\n",
    "        french_cognates.append(strong_tag.text)\n"
   ]
  },
  {
   "cell_type": "code",
   "execution_count": 44,
   "metadata": {},
   "outputs": [
    {
     "data": {
      "text/plain": [
       "['l’accélération',\n",
       " 'action',\n",
       " 'addiction',\n",
       " 'ambition',\n",
       " 'attention',\n",
       " 'celebration',\n",
       " 'champion',\n",
       " 'communication',\n",
       " 'condition',\n",
       " 'conversation',\n",
       " 'donation',\n",
       " 'diction',\n",
       " 'édition',\n",
       " 'election',\n",
       " 'equation',\n",
       " 'emotion',\n",
       " 'érosion',\n",
       " 'fiction',\n",
       " 'function',\n",
       " 'génération',\n",
       " 'infection',\n",
       " 'l’information',\n",
       " 'injection',\n",
       " 'invasion',\n",
       " 'legion',\n",
       " 'motion',\n",
       " 'notion',\n",
       " 'nation',\n",
       " 'omission',\n",
       " 'option',\n",
       " 'passion',\n",
       " 'population',\n",
       " 'présentation',\n",
       " 'prononciation',\n",
       " 'question',\n",
       " 'ration',\n",
       " 'reflection',\n",
       " 'religion',\n",
       " 'réservation',\n",
       " 'région',\n",
       " 'rotation',\n",
       " 'session',\n",
       " 'station',\n",
       " 'solution',\n",
       " 'transaction',\n",
       " 'animal',\n",
       " 'central',\n",
       " 'national',\n",
       " 'final',\n",
       " 'international',\n",
       " 'mental',\n",
       " 'vertical',\n",
       " 'adorable',\n",
       " 'admirable',\n",
       " 'applicable',\n",
       " 'cable',\n",
       " 'capable',\n",
       " 'double',\n",
       " 'durable',\n",
       " 'favorable',\n",
       " 'habitable',\n",
       " 'incurable',\n",
       " 'identifiable',\n",
       " 'improbable',\n",
       " 'inséparable',\n",
       " 'justifiable',\n",
       " 'notable',\n",
       " 'recyclable',\n",
       " 'respectable',\n",
       " 'sociable',\n",
       " 'table',\n",
       " 'vulnérable',\n",
       " 'horrible',\n",
       " 'flexible',\n",
       " 'impossible',\n",
       " 'inaccessible',\n",
       " 'incrédible',\n",
       " 'perceptible',\n",
       " 'visible',\n",
       " 'ambiance',\n",
       " 'ambulance',\n",
       " 'appearance',\n",
       " 'alliance',\n",
       " 'arrogance',\n",
       " 'assistance',\n",
       " 'assurance',\n",
       " 'brilliance',\n",
       " 'circumstance',\n",
       " 'deliverance',\n",
       " 'distance',\n",
       " 'dominance',\n",
       " 'endurance',\n",
       " 'elegance',\n",
       " 'fiancé',\n",
       " 'finance',\n",
       " 'fragrance',\n",
       " 'intolerance',\n",
       " 'importance',\n",
       " 'nuance',\n",
       " 'nuisance',\n",
       " 'perseverance',\n",
       " 'renaissance',\n",
       " 'resemblance',\n",
       " 'resonance',\n",
       " 'substance',\n",
       " 'tolerance',\n",
       " 'vibrance',\n",
       " 'brilliant(e)',\n",
       " 'éléphant',\n",
       " 'extravagant',\n",
       " 'ignorant(e)',\n",
       " 'immigrant',\n",
       " 'important(e',\n",
       " 'nonchalant',\n",
       " 'restaurant',\n",
       " 'triumphant(e)',\n",
       " 'vacant',\n",
       " 'vibrant',\n",
       " 'contracter',\n",
       " 'correct',\n",
       " 'direct',\n",
       " 'distinct',\n",
       " 'exact',\n",
       " 'impact',\n",
       " 'insecte',\n",
       " 'instinct',\n",
       " 'objet',\n",
       " 'parfait',\n",
       " 'respect',\n",
       " 'suspect',\n",
       " 'absence',\n",
       " 'conscience',\n",
       " 'convergence',\n",
       " 'indulgence',\n",
       " 'impatience',\n",
       " 'indépendance',\n",
       " 'innocence',\n",
       " 'intelligence',\n",
       " 'obédience',\n",
       " 'patience',\n",
       " 'science',\n",
       " 'silence',\n",
       " 'violence',\n",
       " 'absent',\n",
       " 'accent',\n",
       " 'accident',\n",
       " 'adjacent',\n",
       " 'adolescent',\n",
       " 'affluent',\n",
       " 'amendement',\n",
       " 'appartement',\n",
       " 'agent',\n",
       " 'ardent',\n",
       " 'client',\n",
       " 'compliment',\n",
       " 'continent',\n",
       " 'décent',\n",
       " 'déficient',\n",
       " 'différent(e)',\n",
       " 'diligent',\n",
       " 'document',\n",
       " 'encouragement',\n",
       " 'élément',\n",
       " 'évident',\n",
       " 'excellent',\n",
       " 'incrément',\n",
       " 'incident',\n",
       " 'innocent',\n",
       " 'intelligent',\n",
       " 'latent',\n",
       " 'monument',\n",
       " 'négligent',\n",
       " 'paiement',\n",
       " 'parent',\n",
       " 'permanent(e)',\n",
       " 'pertinent',\n",
       " 'président',\n",
       " 'prudent(e)',\n",
       " 'récent',\n",
       " 'segment',\n",
       " 'talent',\n",
       " 'transparent',\n",
       " 'urgent',\n",
       " 'actuaire',\n",
       " 'arbitraire',\n",
       " 'dictionnaire',\n",
       " 'extraordinaire',\n",
       " 'imaginaire',\n",
       " 'ordinaire',\n",
       " 'anniversaire',\n",
       " 'dictionnaire',\n",
       " 'salaire',\n",
       " 'vocabulaire',\n",
       " 'militaire',\n",
       " 'néccessaire',\n",
       " 'contraire',\n",
       " 'alphabetique',\n",
       " 'analytique',\n",
       " 'Catholique',\n",
       " 'chemique',\n",
       " 'critique',\n",
       " 'cubique',\n",
       " 'dramatique',\n",
       " 'electrique',\n",
       " 'èthique',\n",
       " 'historique',\n",
       " 'identique',\n",
       " 'logique',\n",
       " 'lyrique',\n",
       " 'musique',\n",
       " 'pratique',\n",
       " 'romantique',\n",
       " 'statistique',\n",
       " 'symetrique',\n",
       " 'typique',\n",
       " 'cycliste',\n",
       " 'artiste',\n",
       " 'dentiste',\n",
       " 'absolument',\n",
       " '\\xa0correctement',\n",
       " 'directement',\n",
       " 'spécialement',\n",
       " 'évidemment',\n",
       " 'exactement',\n",
       " 'finalement',\n",
       " 'immédiatement',\n",
       " 'naturellement',\n",
       " 'normalement',\n",
       " 'totalement',\n",
       " 'côte',\n",
       " 'forêt',\n",
       " 'hôtel',\n",
       " 'hôpital',\n",
       " 'théâtre']"
      ]
     },
     "execution_count": 44,
     "metadata": {},
     "output_type": "execute_result"
    }
   ],
   "source": [
    "french_cognates"
   ]
  },
  {
   "cell_type": "code",
   "execution_count": 50,
   "metadata": {},
   "outputs": [],
   "source": [
    "weights = pd.read_csv(\"./results/hlr.settles.acl16.learning_traces.13m.weights\",delimiter='\\t',skiprows=3,header=None)"
   ]
  },
  {
   "cell_type": "code",
   "execution_count": 60,
   "metadata": {},
   "outputs": [],
   "source": [
    "weights.columns = ['lexemes','weights']"
   ]
  },
  {
   "cell_type": "code",
   "execution_count": 62,
   "metadata": {},
   "outputs": [
    {
     "data": {
      "text/html": [
       "<div>\n",
       "<style scoped>\n",
       "    .dataframe tbody tr th:only-of-type {\n",
       "        vertical-align: middle;\n",
       "    }\n",
       "\n",
       "    .dataframe tbody tr th {\n",
       "        vertical-align: top;\n",
       "    }\n",
       "\n",
       "    .dataframe thead th {\n",
       "        text-align: right;\n",
       "    }\n",
       "</style>\n",
       "<table border=\"1\" class=\"dataframe\">\n",
       "  <thead>\n",
       "    <tr style=\"text-align: right;\">\n",
       "      <th></th>\n",
       "      <th>lexemes</th>\n",
       "      <th>weights</th>\n",
       "    </tr>\n",
       "  </thead>\n",
       "  <tbody>\n",
       "    <tr>\n",
       "      <th>0</th>\n",
       "      <td>es:desde/desde&lt;pr&gt;</td>\n",
       "      <td>0.1707</td>\n",
       "    </tr>\n",
       "    <tr>\n",
       "      <th>1</th>\n",
       "      <td>es:como/comer&lt;vblex&gt;&lt;pri&gt;&lt;p1&gt;&lt;sg&gt;</td>\n",
       "      <td>0.1708</td>\n",
       "    </tr>\n",
       "    <tr>\n",
       "      <th>2</th>\n",
       "      <td>de:kinder/kind&lt;n&gt;&lt;nt&gt;&lt;pl&gt;&lt;nom&gt;</td>\n",
       "      <td>0.1297</td>\n",
       "    </tr>\n",
       "    <tr>\n",
       "      <th>3</th>\n",
       "      <td>en:strawberry/strawberry&lt;n&gt;&lt;sg&gt;</td>\n",
       "      <td>-0.0585</td>\n",
       "    </tr>\n",
       "    <tr>\n",
       "      <th>4</th>\n",
       "      <td>en:to/to&lt;pr&gt;</td>\n",
       "      <td>0.0324</td>\n",
       "    </tr>\n",
       "  </tbody>\n",
       "</table>\n",
       "</div>"
      ],
      "text/plain": [
       "                             lexemes  weights\n",
       "0                 es:desde/desde<pr>   0.1707\n",
       "1  es:como/comer<vblex><pri><p1><sg>   0.1708\n",
       "2     de:kinder/kind<n><nt><pl><nom>   0.1297\n",
       "3    en:strawberry/strawberry<n><sg>  -0.0585\n",
       "4                       en:to/to<pr>   0.0324"
      ]
     },
     "execution_count": 62,
     "metadata": {},
     "output_type": "execute_result"
    }
   ],
   "source": [
    "weights.head()"
   ]
  },
  {
   "cell_type": "code",
   "execution_count": 64,
   "metadata": {},
   "outputs": [
    {
     "name": "stdout",
     "output_type": "stream",
     "text": [
      "       weights lang surface_form        root                            tags\n",
      "0       0.1707   es        desde       desde                           [pr>]\n",
      "1       0.1708   es         como       comer        [vblex>, pri>, p1>, sg>]\n",
      "2       0.1297   de       kinder        kind            [n>, nt>, pl>, nom>]\n",
      "3      -0.0585   en   strawberry  strawberry                       [n>, sg>]\n",
      "4       0.0324   en           to          to                           [pr>]\n",
      "...        ...  ...          ...         ...                             ...\n",
      "19274   0.0000   fr   conférence  conférence                   [n>, f>, sg>]\n",
      "19275   0.0000   fr        liens        lien                   [n>, m>, pl>]\n",
      "19276   0.0000   pt          foi          ir        [vblex>, ifi>, p3>, sg>]\n",
      "19277   0.0000   de        <*sf>      heißen  [vblex>, pri>, *pers>, *numb>]\n",
      "19278   0.0000   fr    compagnie   compagnie                   [n>, f>, sg>]\n",
      "\n",
      "[19279 rows x 5 columns]\n"
     ]
    }
   ],
   "source": [
    "\n",
    "\n",
    "# Function to split the column into four parts\n",
    "def split_column(row):\n",
    "    parts = row['lexemes'].split(':')\n",
    "    row['lang'] = parts[0] \n",
    "    parts = parts[1].split('/')\n",
    "    row['surface_form'] = parts[0]\n",
    "    parts = parts[1].split('<')\n",
    "    row['root'] = parts[0]\n",
    "    row['tags'] = parts[1:]\n",
    "    return row   \n",
    "\n",
    "# Apply the function to the dataframe and drop the original column\n",
    "df = weights.apply(split_column, axis=1).drop('lexemes', axis=1)\n",
    "\n",
    "\n"
   ]
  },
  {
   "cell_type": "code",
   "execution_count": 90,
   "metadata": {},
   "outputs": [],
   "source": [
    "def handle_sf(row):\n",
    "    if row.surface_form == '<*sf>':\n",
    "        row.surface_form = row.root\n",
    "    return row"
   ]
  },
  {
   "cell_type": "code",
   "execution_count": 92,
   "metadata": {},
   "outputs": [],
   "source": [
    "df = df.apply(handle_sf,axis=1)"
   ]
  },
  {
   "cell_type": "code",
   "execution_count": 65,
   "metadata": {},
   "outputs": [
    {
     "data": {
      "text/html": [
       "<div>\n",
       "<style scoped>\n",
       "    .dataframe tbody tr th:only-of-type {\n",
       "        vertical-align: middle;\n",
       "    }\n",
       "\n",
       "    .dataframe tbody tr th {\n",
       "        vertical-align: top;\n",
       "    }\n",
       "\n",
       "    .dataframe thead th {\n",
       "        text-align: right;\n",
       "    }\n",
       "</style>\n",
       "<table border=\"1\" class=\"dataframe\">\n",
       "  <thead>\n",
       "    <tr style=\"text-align: right;\">\n",
       "      <th></th>\n",
       "      <th>weights</th>\n",
       "      <th>lang</th>\n",
       "      <th>surface_form</th>\n",
       "      <th>root</th>\n",
       "      <th>tags</th>\n",
       "    </tr>\n",
       "  </thead>\n",
       "  <tbody>\n",
       "    <tr>\n",
       "      <th>0</th>\n",
       "      <td>0.1707</td>\n",
       "      <td>es</td>\n",
       "      <td>desde</td>\n",
       "      <td>desde</td>\n",
       "      <td>[pr&gt;]</td>\n",
       "    </tr>\n",
       "    <tr>\n",
       "      <th>1</th>\n",
       "      <td>0.1708</td>\n",
       "      <td>es</td>\n",
       "      <td>como</td>\n",
       "      <td>comer</td>\n",
       "      <td>[vblex&gt;, pri&gt;, p1&gt;, sg&gt;]</td>\n",
       "    </tr>\n",
       "    <tr>\n",
       "      <th>2</th>\n",
       "      <td>0.1297</td>\n",
       "      <td>de</td>\n",
       "      <td>kinder</td>\n",
       "      <td>kind</td>\n",
       "      <td>[n&gt;, nt&gt;, pl&gt;, nom&gt;]</td>\n",
       "    </tr>\n",
       "    <tr>\n",
       "      <th>3</th>\n",
       "      <td>-0.0585</td>\n",
       "      <td>en</td>\n",
       "      <td>strawberry</td>\n",
       "      <td>strawberry</td>\n",
       "      <td>[n&gt;, sg&gt;]</td>\n",
       "    </tr>\n",
       "    <tr>\n",
       "      <th>4</th>\n",
       "      <td>0.0324</td>\n",
       "      <td>en</td>\n",
       "      <td>to</td>\n",
       "      <td>to</td>\n",
       "      <td>[pr&gt;]</td>\n",
       "    </tr>\n",
       "  </tbody>\n",
       "</table>\n",
       "</div>"
      ],
      "text/plain": [
       "   weights lang surface_form        root                      tags\n",
       "0   0.1707   es        desde       desde                     [pr>]\n",
       "1   0.1708   es         como       comer  [vblex>, pri>, p1>, sg>]\n",
       "2   0.1297   de       kinder        kind      [n>, nt>, pl>, nom>]\n",
       "3  -0.0585   en   strawberry  strawberry                 [n>, sg>]\n",
       "4   0.0324   en           to          to                     [pr>]"
      ]
     },
     "execution_count": 65,
     "metadata": {},
     "output_type": "execute_result"
    }
   ],
   "source": [
    "df.head()"
   ]
  },
  {
   "cell_type": "code",
   "execution_count": 94,
   "metadata": {},
   "outputs": [],
   "source": [
    "french_weights = df[df.lang == 'fr']"
   ]
  },
  {
   "cell_type": "code",
   "execution_count": 100,
   "metadata": {},
   "outputs": [],
   "source": [
    "french_lexemes = set(french_weights.surface_form) "
   ]
  },
  {
   "cell_type": "code",
   "execution_count": 101,
   "metadata": {},
   "outputs": [],
   "source": [
    "french_cognates = french_lexemes & set(french_cognates)"
   ]
  },
  {
   "cell_type": "code",
   "execution_count": 102,
   "metadata": {},
   "outputs": [
    {
     "data": {
      "text/plain": [
       "82"
      ]
     },
     "execution_count": 102,
     "metadata": {},
     "output_type": "execute_result"
    }
   ],
   "source": [
    "len(french_cognates)"
   ]
  },
  {
   "cell_type": "code",
   "execution_count": 103,
   "metadata": {},
   "outputs": [],
   "source": [
    "french_non_cognates = french_lexemes - set(french_cognates)"
   ]
  },
  {
   "cell_type": "code",
   "execution_count": 104,
   "metadata": {},
   "outputs": [
    {
     "data": {
      "text/plain": [
       "2654"
      ]
     },
     "execution_count": 104,
     "metadata": {},
     "output_type": "execute_result"
    }
   ],
   "source": [
    "len(french_non_cognates)"
   ]
  },
  {
   "cell_type": "code",
   "execution_count": 107,
   "metadata": {},
   "outputs": [],
   "source": []
  },
  {
   "cell_type": "code",
   "execution_count": 112,
   "metadata": {},
   "outputs": [
    {
     "data": {
      "text/html": [
       "<div>\n",
       "<style scoped>\n",
       "    .dataframe tbody tr th:only-of-type {\n",
       "        vertical-align: middle;\n",
       "    }\n",
       "\n",
       "    .dataframe tbody tr th {\n",
       "        vertical-align: top;\n",
       "    }\n",
       "\n",
       "    .dataframe thead th {\n",
       "        text-align: right;\n",
       "    }\n",
       "</style>\n",
       "<table border=\"1\" class=\"dataframe\">\n",
       "  <thead>\n",
       "    <tr style=\"text-align: right;\">\n",
       "      <th></th>\n",
       "      <th>weights</th>\n",
       "      <th>lang</th>\n",
       "      <th>surface_form</th>\n",
       "      <th>root</th>\n",
       "      <th>tags</th>\n",
       "    </tr>\n",
       "  </thead>\n",
       "  <tbody>\n",
       "    <tr>\n",
       "      <th>0</th>\n",
       "      <td>0.1707</td>\n",
       "      <td>es</td>\n",
       "      <td>desde</td>\n",
       "      <td>desde</td>\n",
       "      <td>[pr&gt;]</td>\n",
       "    </tr>\n",
       "    <tr>\n",
       "      <th>1</th>\n",
       "      <td>0.1708</td>\n",
       "      <td>es</td>\n",
       "      <td>como</td>\n",
       "      <td>comer</td>\n",
       "      <td>[vblex&gt;, pri&gt;, p1&gt;, sg&gt;]</td>\n",
       "    </tr>\n",
       "    <tr>\n",
       "      <th>4</th>\n",
       "      <td>0.0324</td>\n",
       "      <td>en</td>\n",
       "      <td>to</td>\n",
       "      <td>to</td>\n",
       "      <td>[pr&gt;]</td>\n",
       "    </tr>\n",
       "    <tr>\n",
       "      <th>5</th>\n",
       "      <td>-0.0578</td>\n",
       "      <td>en</td>\n",
       "      <td>am</td>\n",
       "      <td>be</td>\n",
       "      <td>[vbser&gt;, pri&gt;, p1&gt;, sg&gt;]</td>\n",
       "    </tr>\n",
       "    <tr>\n",
       "      <th>6</th>\n",
       "      <td>0.1622</td>\n",
       "      <td>en</td>\n",
       "      <td>on</td>\n",
       "      <td>on</td>\n",
       "      <td>[pr&gt;]</td>\n",
       "    </tr>\n",
       "    <tr>\n",
       "      <th>...</th>\n",
       "      <td>...</td>\n",
       "      <td>...</td>\n",
       "      <td>...</td>\n",
       "      <td>...</td>\n",
       "      <td>...</td>\n",
       "    </tr>\n",
       "    <tr>\n",
       "      <th>19257</th>\n",
       "      <td>0.0000</td>\n",
       "      <td>pt</td>\n",
       "      <td>banda</td>\n",
       "      <td>banda</td>\n",
       "      <td>[n&gt;, f&gt;, sg&gt;]</td>\n",
       "    </tr>\n",
       "    <tr>\n",
       "      <th>19259</th>\n",
       "      <td>0.0000</td>\n",
       "      <td>de</td>\n",
       "      <td>feld</td>\n",
       "      <td>feld</td>\n",
       "      <td>[n&gt;, nt&gt;, *numb&gt;, *case&gt;]</td>\n",
       "    </tr>\n",
       "    <tr>\n",
       "      <th>19273</th>\n",
       "      <td>0.0000</td>\n",
       "      <td>pt</td>\n",
       "      <td>ajuda</td>\n",
       "      <td>ajudar</td>\n",
       "      <td>[vblex&gt;, pri&gt;, p3&gt;, sg&gt;]</td>\n",
       "    </tr>\n",
       "    <tr>\n",
       "      <th>19275</th>\n",
       "      <td>0.0000</td>\n",
       "      <td>fr</td>\n",
       "      <td>liens</td>\n",
       "      <td>lien</td>\n",
       "      <td>[n&gt;, m&gt;, pl&gt;]</td>\n",
       "    </tr>\n",
       "    <tr>\n",
       "      <th>19276</th>\n",
       "      <td>0.0000</td>\n",
       "      <td>pt</td>\n",
       "      <td>foi</td>\n",
       "      <td>ir</td>\n",
       "      <td>[vblex&gt;, ifi&gt;, p3&gt;, sg&gt;]</td>\n",
       "    </tr>\n",
       "  </tbody>\n",
       "</table>\n",
       "<p>7097 rows × 5 columns</p>\n",
       "</div>"
      ],
      "text/plain": [
       "       weights lang surface_form    root                       tags\n",
       "0       0.1707   es        desde   desde                      [pr>]\n",
       "1       0.1708   es         como   comer   [vblex>, pri>, p1>, sg>]\n",
       "4       0.0324   en           to      to                      [pr>]\n",
       "5      -0.0578   en           am      be   [vbser>, pri>, p1>, sg>]\n",
       "6       0.1622   en           on      on                      [pr>]\n",
       "...        ...  ...          ...     ...                        ...\n",
       "19257   0.0000   pt        banda   banda              [n>, f>, sg>]\n",
       "19259   0.0000   de         feld    feld  [n>, nt>, *numb>, *case>]\n",
       "19273   0.0000   pt        ajuda  ajudar   [vblex>, pri>, p3>, sg>]\n",
       "19275   0.0000   fr        liens    lien              [n>, m>, pl>]\n",
       "19276   0.0000   pt          foi      ir   [vblex>, ifi>, p3>, sg>]\n",
       "\n",
       "[7097 rows x 5 columns]"
      ]
     },
     "execution_count": 112,
     "metadata": {},
     "output_type": "execute_result"
    }
   ],
   "source": []
  },
  {
   "cell_type": "code",
   "execution_count": 113,
   "metadata": {},
   "outputs": [
    {
     "data": {
      "text/html": [
       "<div>\n",
       "<style scoped>\n",
       "    .dataframe tbody tr th:only-of-type {\n",
       "        vertical-align: middle;\n",
       "    }\n",
       "\n",
       "    .dataframe tbody tr th {\n",
       "        vertical-align: top;\n",
       "    }\n",
       "\n",
       "    .dataframe thead th {\n",
       "        text-align: right;\n",
       "    }\n",
       "</style>\n",
       "<table border=\"1\" class=\"dataframe\">\n",
       "  <thead>\n",
       "    <tr style=\"text-align: right;\">\n",
       "      <th></th>\n",
       "      <th>weights</th>\n",
       "      <th>lang</th>\n",
       "      <th>surface_form</th>\n",
       "      <th>root</th>\n",
       "      <th>tags</th>\n",
       "    </tr>\n",
       "  </thead>\n",
       "  <tbody>\n",
       "    <tr>\n",
       "      <th>2</th>\n",
       "      <td>0.1297</td>\n",
       "      <td>de</td>\n",
       "      <td>kinder</td>\n",
       "      <td>kind</td>\n",
       "      <td>[n&gt;, nt&gt;, pl&gt;, nom&gt;]</td>\n",
       "    </tr>\n",
       "    <tr>\n",
       "      <th>3</th>\n",
       "      <td>-0.0585</td>\n",
       "      <td>en</td>\n",
       "      <td>strawberry</td>\n",
       "      <td>strawberry</td>\n",
       "      <td>[n&gt;, sg&gt;]</td>\n",
       "    </tr>\n",
       "    <tr>\n",
       "      <th>8</th>\n",
       "      <td>0.1148</td>\n",
       "      <td>en</td>\n",
       "      <td>elephants</td>\n",
       "      <td>elephant</td>\n",
       "      <td>[n&gt;, pl&gt;]</td>\n",
       "    </tr>\n",
       "    <tr>\n",
       "      <th>15</th>\n",
       "      <td>0.3490</td>\n",
       "      <td>en</td>\n",
       "      <td>thanks</td>\n",
       "      <td>thanks</td>\n",
       "      <td>[ij&gt;]</td>\n",
       "    </tr>\n",
       "    <tr>\n",
       "      <th>20</th>\n",
       "      <td>0.2906</td>\n",
       "      <td>fr</td>\n",
       "      <td>poisson</td>\n",
       "      <td>poisson</td>\n",
       "      <td>[n&gt;, m&gt;, sg&gt;]</td>\n",
       "    </tr>\n",
       "    <tr>\n",
       "      <th>...</th>\n",
       "      <td>...</td>\n",
       "      <td>...</td>\n",
       "      <td>...</td>\n",
       "      <td>...</td>\n",
       "      <td>...</td>\n",
       "    </tr>\n",
       "    <tr>\n",
       "      <th>19271</th>\n",
       "      <td>0.0000</td>\n",
       "      <td>it</td>\n",
       "      <td>pescare</td>\n",
       "      <td>pescare</td>\n",
       "      <td>[vblex&gt;, inf&gt;]</td>\n",
       "    </tr>\n",
       "    <tr>\n",
       "      <th>19272</th>\n",
       "      <td>0.0000</td>\n",
       "      <td>pt</td>\n",
       "      <td>conhecemos</td>\n",
       "      <td>conhecer</td>\n",
       "      <td>[vblex&gt;, pri&gt;, p1&gt;, pl&gt;]</td>\n",
       "    </tr>\n",
       "    <tr>\n",
       "      <th>19274</th>\n",
       "      <td>0.0000</td>\n",
       "      <td>fr</td>\n",
       "      <td>conférence</td>\n",
       "      <td>conférence</td>\n",
       "      <td>[n&gt;, f&gt;, sg&gt;]</td>\n",
       "    </tr>\n",
       "    <tr>\n",
       "      <th>19277</th>\n",
       "      <td>0.0000</td>\n",
       "      <td>de</td>\n",
       "      <td>heißen</td>\n",
       "      <td>heißen</td>\n",
       "      <td>[vblex&gt;, pri&gt;, *pers&gt;, *numb&gt;]</td>\n",
       "    </tr>\n",
       "    <tr>\n",
       "      <th>19278</th>\n",
       "      <td>0.0000</td>\n",
       "      <td>fr</td>\n",
       "      <td>compagnie</td>\n",
       "      <td>compagnie</td>\n",
       "      <td>[n&gt;, f&gt;, sg&gt;]</td>\n",
       "    </tr>\n",
       "  </tbody>\n",
       "</table>\n",
       "<p>12182 rows × 5 columns</p>\n",
       "</div>"
      ],
      "text/plain": [
       "       weights lang surface_form        root                            tags\n",
       "2       0.1297   de       kinder        kind            [n>, nt>, pl>, nom>]\n",
       "3      -0.0585   en   strawberry  strawberry                       [n>, sg>]\n",
       "8       0.1148   en    elephants    elephant                       [n>, pl>]\n",
       "15      0.3490   en       thanks      thanks                           [ij>]\n",
       "20      0.2906   fr      poisson     poisson                   [n>, m>, sg>]\n",
       "...        ...  ...          ...         ...                             ...\n",
       "19271   0.0000   it      pescare     pescare                  [vblex>, inf>]\n",
       "19272   0.0000   pt   conhecemos    conhecer        [vblex>, pri>, p1>, pl>]\n",
       "19274   0.0000   fr   conférence  conférence                   [n>, f>, sg>]\n",
       "19277   0.0000   de       heißen      heißen  [vblex>, pri>, *pers>, *numb>]\n",
       "19278   0.0000   fr    compagnie   compagnie                   [n>, f>, sg>]\n",
       "\n",
       "[12182 rows x 5 columns]"
      ]
     },
     "execution_count": 113,
     "metadata": {},
     "output_type": "execute_result"
    }
   ],
   "source": [
    "df[length >= 6]"
   ]
  },
  {
   "cell_type": "code",
   "execution_count": 142,
   "metadata": {},
   "outputs": [
    {
     "name": "stdout",
     "output_type": "stream",
     "text": [
      "count    357.000000\n",
      "mean       0.053473\n",
      "std        0.184395\n",
      "min       -0.513200\n",
      "25%       -0.062600\n",
      "50%        0.058300\n",
      "75%        0.172400\n",
      "max        0.675100\n",
      "Name: weights, dtype: float64\n",
      "count    18922.000000\n",
      "mean         0.135181\n",
      "std          0.203168\n",
      "min         -0.771300\n",
      "25%          0.000000\n",
      "50%          0.130000\n",
      "75%          0.272600\n",
      "max          0.772200\n",
      "Name: weights, dtype: float64\n",
      "count    1318.000000\n",
      "mean        0.098002\n",
      "std         0.200832\n",
      "min        -0.513200\n",
      "25%        -0.035125\n",
      "50%         0.106100\n",
      "75%         0.223425\n",
      "max         0.675100\n",
      "Name: weights, dtype: float64\n",
      "count    17961.000000\n",
      "mean         0.136285\n",
      "std          0.203058\n",
      "min         -0.771300\n",
      "25%          0.000400\n",
      "50%          0.130100\n",
      "75%          0.274300\n",
      "max          0.772200\n",
      "Name: weights, dtype: float64\n",
      "count    3672.000000\n",
      "mean        0.129700\n",
      "std         0.204832\n",
      "min        -0.550700\n",
      "25%        -0.000800\n",
      "50%         0.130100\n",
      "75%         0.269025\n",
      "max         0.719800\n",
      "Name: weights, dtype: float64\n",
      "count    15607.000000\n",
      "mean         0.134601\n",
      "std          0.202724\n",
      "min         -0.771300\n",
      "25%          0.000000\n",
      "50%          0.129900\n",
      "75%          0.271700\n",
      "max          0.772200\n",
      "Name: weights, dtype: float64\n",
      "count    7097.000000\n",
      "mean        0.131509\n",
      "std         0.199947\n",
      "min        -0.608700\n",
      "25%         0.000000\n",
      "50%         0.130000\n",
      "75%         0.267400\n",
      "max         0.719800\n",
      "Name: weights, dtype: float64\n",
      "count    12182.000000\n",
      "mean         0.134926\n",
      "std          0.204961\n",
      "min         -0.771300\n",
      "25%          0.000000\n",
      "50%          0.129900\n",
      "75%          0.273550\n",
      "max          0.772200\n",
      "Name: weights, dtype: float64\n",
      "count    10681.000000\n",
      "mean         0.132578\n",
      "std          0.200549\n",
      "min         -0.754800\n",
      "25%          0.000000\n",
      "50%          0.130000\n",
      "75%          0.269000\n",
      "max          0.738100\n",
      "Name: weights, dtype: float64\n",
      "count    8598.000000\n",
      "mean        0.135022\n",
      "std         0.206298\n",
      "min        -0.771300\n",
      "25%         0.000000\n",
      "50%         0.129900\n",
      "75%         0.274600\n",
      "max         0.772200\n",
      "Name: weights, dtype: float64\n",
      "count    13597.000000\n",
      "mean         0.132871\n",
      "std          0.201335\n",
      "min         -0.754800\n",
      "25%          0.000000\n",
      "50%          0.130000\n",
      "75%          0.270200\n",
      "max          0.772200\n",
      "Name: weights, dtype: float64\n",
      "count    5682.000000\n",
      "mean        0.135576\n",
      "std         0.207371\n",
      "min        -0.771300\n",
      "25%         0.000000\n",
      "50%         0.129900\n",
      "75%         0.274950\n",
      "max         0.771400\n",
      "Name: weights, dtype: float64\n"
     ]
    },
    {
     "data": {
      "image/png": "[encoded data removed]",
      "text/plain": [
       "<Figure size 360x216 with 1 Axes>"
      ]
     },
     "metadata": {
      "needs_background": "light"
     },
     "output_type": "display_data"
    },
    {
     "data": {
      "image/png": "[encoded data removed]",
      "text/plain": [
       "<Figure size 432x288 with 4 Axes>"
      ]
     },
     "metadata": {
      "needs_background": "light"
     },
     "output_type": "display_data"
    },
    {
     "data": {
      "image/png": "[encoded data removed]",
      "text/plain": [
       "<Figure size 360x216 with 1 Axes>"
      ]
     },
     "metadata": {
      "needs_background": "light"
     },
     "output_type": "display_data"
    },
    {
     "data": {
      "image/png": "[encoded data removed]",
      "text/plain": [
       "<Figure size 432x288 with 4 Axes>"
      ]
     },
     "metadata": {
      "needs_background": "light"
     },
     "output_type": "display_data"
    },
    {
     "data": {
      "image/png": "[encoded data removed]",
      "text/plain": [
       "<Figure size 360x216 with 1 Axes>"
      ]
     },
     "metadata": {
      "needs_background": "light"
     },
     "output_type": "display_data"
    },
    {
     "data": {
      "image/png": "[encoded data removed]",
      "text/plain": [
       "<Figure size 432x288 with 4 Axes>"
      ]
     },
     "metadata": {
      "needs_background": "light"
     },
     "output_type": "display_data"
    },
    {
     "data": {
      "image/png": "[encoded data removed]",
      "text/plain": [
       "<Figure size 360x216 with 1 Axes>"
      ]
     },
     "metadata": {
      "needs_background": "light"
     },
     "output_type": "display_data"
    },
    {
     "data": {
      "image/png": "[encoded data removed]",
      "text/plain": [
       "<Figure size 432x288 with 4 Axes>"
      ]
     },
     "metadata": {
      "needs_background": "light"
     },
     "output_type": "display_data"
    },
    {
     "data": {
      "image/png": "[encoded data removed]",
      "text/plain": [
       "<Figure size 360x216 with 1 Axes>"
      ]
     },
     "metadata": {
      "needs_background": "light"
     },
     "output_type": "display_data"
    },
    {
     "data": {
      "image/png": "[encoded data removed]",
      "text/plain": [
       "<Figure size 432x288 with 4 Axes>"
      ]
     },
     "metadata": {
      "needs_background": "light"
     },
     "output_type": "display_data"
    },
    {
     "data": {
      "image/png": "[encoded data removed]",
      "text/plain": [
       "<Figure size 360x216 with 1 Axes>"
      ]
     },
     "metadata": {
      "needs_background": "light"
     },
     "output_type": "display_data"
    },
    {
     "data": {
      "image/png": "[encoded data removed]",
      "text/plain": [
       "<Figure size 432x288 with 4 Axes>"
      ]
     },
     "metadata": {
      "needs_background": "light"
     },
     "output_type": "display_data"
    }
   ],
   "source": [
    "lengths = [3,4,5,6,7,8]\n",
    "pvalues = []\n",
    "temp = df['surface_form'].apply(lambda x : len(x))\n",
    "\n",
    "for length in lengths:\n",
    "    group1 = df[temp < length]\n",
    "    group2 = df[temp >= length]\n",
    "\n",
    "    values = [len(group1),len(group2)]\n",
    "    labels = [f\"<{length}\",f\">={length}\"]\n",
    "    plt.figure(figsize=(5,3))\n",
    "    plt.bar(labels,values,width=0.4)\n",
    "    for i in range(len(labels)):\n",
    "        plt.text(i, values[i], values[i], ha = 'center')\n",
    "    plt.ylabel(\"counts\")\n",
    "\n",
    "    fig,axes = plt.subplots(2,2)\n",
    "    axes[0,0].hist(group1.weights)\n",
    "    axes[0,1].hist(group2.weights)\n",
    "\n",
    "    axes[1,0].boxplot(group1.weights)\n",
    "    axes[1,1].boxplot(group2.weights)\n",
    "\n",
    "    fig.suptitle(f\"Distribution of weights in both groups with cut off length {length}\")\n",
    "\n",
    "    print(group1.weights.describe())\n",
    "    print(group2.weights.describe())\n",
    "\n",
    "    result = ttest_ind(group1.weights,group2.weights,equal_var=False)\n",
    "    pvalues.append(result.pvalue)"
   ]
  },
  {
   "cell_type": "code",
   "execution_count": 153,
   "metadata": {},
   "outputs": [
    {
     "data": {
      "text/plain": [
       "Text(0, 0.5, 'p values')"
      ]
     },
     "execution_count": 153,
     "metadata": {},
     "output_type": "execute_result"
    },
    {
     "data": {
      "image/png": "[encoded data removed]",
      "text/plain": [
       "<Figure size 432x288 with 1 Axes>"
      ]
     },
     "metadata": {
      "needs_background": "light"
     },
     "output_type": "display_data"
    }
   ],
   "source": [
    "plt.plot(lengths,pvalues,linestyle='dashed',marker=\"o\")\n",
    "plt.axhline(0.05,color='black')\n",
    "plt.xlabel(\"lengths cut off\")\n",
    "plt.ylabel(\"p values\")"
   ]
  },
  {
   "cell_type": "code",
   "execution_count": 123,
   "metadata": {},
   "outputs": [
    {
     "data": {
      "text/plain": [
       "Text(0.5, 1.0, 'distribution of length of words')"
      ]
     },
     "execution_count": 123,
     "metadata": {},
     "output_type": "execute_result"
    },
    {
     "data": {
      "image/png": "[encoded data removed]",
      "text/plain": [
       "<Figure size 432x288 with 1 Axes>"
      ]
     },
     "metadata": {
      "needs_background": "light"
     },
     "output_type": "display_data"
    }
   ],
   "source": [
    "plt.hist(temp)\n",
    "plt.xlabel(\"length of words\")\n",
    "plt.ylabel(\"count\")\n",
    "plt.title(\"distribution of length of words\")"
   ]
  },
  {
   "cell_type": "code",
   "execution_count": 118,
   "metadata": {},
   "outputs": [
    {
     "data": {
      "text/plain": [
       "19279"
      ]
     },
     "execution_count": 118,
     "metadata": {},
     "output_type": "execute_result"
    }
   ],
   "source": [
    "len(df)"
   ]
  },
  {
   "cell_type": "code",
   "execution_count": null,
   "metadata": {},
   "outputs": [],
   "source": []
  }
 ],
 "metadata": {
  "interpreter": {
   "hash": "916dbcbb3f70747c44a77c7bcd40155683ae19c65e1c03b4aa3499c5328201f1"
  },
  "kernelspec": {
   "display_name": "Python 3.8.10 64-bit",
   "language": "python",
   "name": "python3"
  },
  "language_info": {
   "codemirror_mode": {
    "name": "ipython",
    "version": 3
   },
   "file_extension": ".py",
   "mimetype": "text/x-python",
   "name": "python",
   "nbconvert_exporter": "python",
   "pygments_lexer": "ipython3",
   "version": "3.8.10"
  },
  "orig_nbformat": 4
 },
 "nbformat": 4,
 "nbformat_minor": 2
}
